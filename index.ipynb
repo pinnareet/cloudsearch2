{
 "cells": [
  {
   "cell_type": "code",
   "execution_count": null,
   "metadata": {},
   "outputs": [],
   "source": []
  },
  {
   "cell_type": "markdown",
   "metadata": {},
   "source": [
    "# Project name here\n",
    "\n",
    "> Summary description here."
   ]
  },
  {
   "cell_type": "markdown",
   "metadata": {},
   "source": [
    "This file will become your README and also the index of your documentation."
   ]
  },
  {
   "cell_type": "markdown",
   "metadata": {},
   "source": [
    "## Install"
   ]
  },
  {
   "cell_type": "markdown",
   "metadata": {},
   "source": [
    "`pip install your_project_name`"
   ]
  },
  {
   "cell_type": "markdown",
   "metadata": {},
   "source": [
    "## Usage"
   ]
  },
  {
   "cell_type": "markdown",
   "metadata": {},
   "source": [
    "very simple usage, \n",
    "init the search object then call sortedSearch()\n"
   ]
  },
  {
   "cell_type": "code",
   "execution_count": 1,
   "metadata": {},
   "outputs": [],
   "source": [
    "#hide\n",
    "import pickle, os\n",
    "KEY = ''\n",
    "PW = ''\n",
    "keypath = '/Users/nic/.villa-search-2'\n",
    "if KEY and PW:\n",
    "  with open (keypath, 'wb') as f:\n",
    "    pickle.dump({\n",
    "        'KEY': KEY,\n",
    "        'PW': PW\n",
    "    }, f)\n",
    "with open(keypath, 'rb') as f:\n",
    "  creden = pickle.load(f)\n",
    "USER = creden['KEY']\n",
    "PW = creden['PW']\n",
    "ACCESS_KEY_ID = USER\n",
    "SECRET_ACCESS_KEY = PW\n",
    "os.environ['DATABASE_TABLE_NAME'] = 'product-table-dev-manual'\n",
    "os.environ['REGION'] = 'ap-southeast-1'\n",
    "os.environ['INVENTORY_BUCKET_NAME'] = 'product-bucket-dev-manual'\n",
    "os.environ['INPUT_BUCKET_NAME'] = 'input-product-bucket-dev-manual'\n",
    "# os.environ['DAX_ENDPOINT'] = None\n",
    "REGION = 'ap-southeast-1'"
   ]
  },
  {
   "cell_type": "code",
   "execution_count": 3,
   "metadata": {},
   "outputs": [
    {
     "name": "stdout",
     "output_type": "stream",
     "text": [
      "found 455 results, the first item is \n",
      "{'pr_country_en': 'Thailand', 'psqty': '1.0', 'ordertype': 'Y', 'pstype': '1', 'pr_abb': 'BANANA', 'pr_puqty': '1.0', 'pr_engname': 'BANANA', 'pr_name': 'BANANA', 'pr_dpcode': '19', 'pr_keyword_en': 'banana,bananas,Cavendish Banana,Cavendish,,Fresh fruit', 'cprcode': '0226238', 'pr_ggcode': '191', 'pr_market': 'BANANA', 'pr_sucode1': 'CM1906', 'prtype': 'I', 'villa_category_l2_en': 'Fresh Produce', 'content_en': '0226238 BANANA banana,bananas,Cavendish Banana,Cavendish,,Fresh fruit', 'iprcode': '0226238', 'oprcode': '0226238', 'villa_category_l3_en': 'Fruits & Vegetable Local', 'pr_keyword_th': 'กล้วย,กล้วยหอม,กล้วยไข่,กล้วยออร์แกนิก,กล้วออร์แกนิค,Fresh fruit', 'pr_cgcode': '26', 'pr_code': '0226238', 'villa_category_l4_en': 'Local Fruit', 'pr_sa_method': '1', 'content_th': 'BANANA กล้วย,กล้วยหอม,กล้วยไข่,กล้วยออร์แกนิก,กล้วออร์แกนิค,Fresh fruit', 'pr_active': 'Y', 'pr_suref3': 'A', 'villa_category_l1_en': 'Fresh'}\n"
     ]
    }
   ],
   "source": [
    "from cloudsearch.cloudsearch import Search\n",
    "searchEndpoint = 'https://search-villa-cloudsearch-2-4izacsoytzqf6kztcyjhssy2ti.ap-southeast-1.cloudsearch.amazonaws.com'\n",
    "searcher = Search(searchTerm = 'banana', key=USER, pw= PW , endpoint=searchEndpoint)\n",
    "result = searcher.search(size=1000)\n",
    "print(f'found {len(list(result))} results, the first item is \\n{next(iter(result))}')"
   ]
  },
  {
   "cell_type": "markdown",
   "metadata": {},
   "source": [
    "## For a more complex requirement\n",
    "You can extend the class, please have a look at sortedSearch example"
   ]
  },
  {
   "cell_type": "code",
   "execution_count": 5,
   "metadata": {},
   "outputs": [
    {
     "name": "stdout",
     "output_type": "stream",
     "text": [
      "raw search result is     villa_category_l1_en villa_category_l2_en      villa_category_l3_en  \\\n",
      "0                  Fresh        Fresh Produce  Fruits & Vegetable Local   \n",
      "1                    NaN                  NaN                       NaN   \n",
      "2                  Fresh        Fresh Produce                    Bakery   \n",
      "3                  Fresh        Fresh Produce                    Bakery   \n",
      "4                  Fresh        Fresh Produce                    Bakery   \n",
      "..                   ...                  ...                       ...   \n",
      "450                Fresh        Seafood Fresh                Crustacean   \n",
      "451                Fresh        Seafood Fresh                Crustacean   \n",
      "452                Fresh        Seafood Fresh                Crustacean   \n",
      "453                Fresh               Frozen                   Seafood   \n",
      "454                Fresh        Seafood Fresh             Local Seafood   \n",
      "\n",
      "    villa_category_l4_en  \n",
      "0            Local Fruit  \n",
      "1                    NaN  \n",
      "2          Cake category  \n",
      "3          Cake category  \n",
      "4         Pasty category  \n",
      "..                   ...  \n",
      "450                Local  \n",
      "451                Local  \n",
      "452                Local  \n",
      "453                  NaN  \n",
      "454                  NaN  \n",
      "\n",
      "[455 rows x 4 columns]\n"
     ]
    }
   ],
   "source": [
    "_ = searcher.sortedSearch()"
   ]
  },
  {
   "cell_type": "code",
   "execution_count": null,
   "metadata": {},
   "outputs": [],
   "source": []
  }
 ],
 "metadata": {
  "kernelspec": {
   "display_name": "Python 3",
   "language": "python",
   "name": "python3"
  },
  "language_info": {
   "codemirror_mode": {
    "name": "ipython",
    "version": 3
   },
   "file_extension": ".py",
   "mimetype": "text/x-python",
   "name": "python",
   "nbconvert_exporter": "python",
   "pygments_lexer": "ipython3",
   "version": "3.8.1"
  }
 },
 "nbformat": 4,
 "nbformat_minor": 4
}
