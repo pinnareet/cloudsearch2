{
 "cells": [
  {
   "cell_type": "code",
   "execution_count": 3,
   "metadata": {},
   "outputs": [],
   "source": [
    "# default_exp cloudsearch"
   ]
  },
  {
   "cell_type": "markdown",
   "metadata": {},
   "source": [
    "# cloudsearch\n",
    "\n",
    "> a library to trigger aws cloudsearch endpoint"
   ]
  },
  {
   "cell_type": "code",
   "execution_count": null,
   "metadata": {},
   "outputs": [],
   "source": [
    "#hide\n",
    "from nbdev.showdoc import *"
   ]
  },
  {
   "cell_type": "code",
   "execution_count": 1,
   "metadata": {},
   "outputs": [],
   "source": [
    "#export\n",
    "import pandas as pd\n",
    "from pprint import pprint\n",
    "import boto3\n",
    "\n"
   ]
  },
  {
   "cell_type": "code",
   "execution_count": 5,
   "metadata": {},
   "outputs": [],
   "source": [
    "#hide\n",
    "import pickle, os\n",
    "KEY = ''\n",
    "PW = ''\n",
    "keypath = '/Users/nic/.villa-search-2'\n",
    "if KEY and PW:\n",
    "  with open (keypath, 'wb') as f:\n",
    "    pickle.dump({\n",
    "        'KEY': KEY,\n",
    "        'PW': PW\n",
    "    }, f)\n",
    "with open(keypath, 'rb') as f:\n",
    "  creden = pickle.load(f)\n",
    "USER = creden['KEY']\n",
    "PW = creden['PW']\n",
    "ACCESS_KEY_ID = USER\n",
    "SECRET_ACCESS_KEY = PW\n",
    "os.environ['DATABASE_TABLE_NAME'] = 'product-table-dev-manual'\n",
    "os.environ['REGION'] = 'ap-southeast-1'\n",
    "os.environ['INVENTORY_BUCKET_NAME'] = 'product-bucket-dev-manual'\n",
    "os.environ['INPUT_BUCKET_NAME'] = 'input-product-bucket-dev-manual'\n",
    "# os.environ['DAX_ENDPOINT'] = None\n",
    "REGION = 'ap-southeast-1'"
   ]
  },
  {
   "cell_type": "code",
   "execution_count": 25,
   "metadata": {},
   "outputs": [],
   "source": [
    "#export\n",
    "class Search:\n",
    "  ''' a search class to return search result'''\n",
    "  def __init__(self, searchTerm:str, key, pw, region = 'ap-southeast-1',\n",
    "               endpoint = '',\n",
    "               requiredFields = [\n",
    "                 'villa_category_l1_en',\n",
    "                 'villa_category_l2_en',\n",
    "                 'villa_category_l3_en',\n",
    "                 'villa_category_l4_en'\n",
    "               ] ):\n",
    "    self.searchTerm = searchTerm\n",
    "    self.cloudSearch = boto3.client('cloudsearchdomain' ,\n",
    "                                    aws_access_key_id=key,\n",
    "                                    aws_secret_access_key=pw,\n",
    "                                    region_name=region,\n",
    "                                    endpoint_url= endpoint)\n",
    "    self.requiredFields = requiredFields\n",
    "\n",
    "  def createCriticalColumns(self, df):\n",
    "    ''' fill in required fields if not exist'''\n",
    "    for col in self.requiredFields:\n",
    "      if col not in df:\n",
    "        df[col] = 'noData'\n",
    "    return df.fillna('noData')\n",
    "\n",
    "  def search(self,size = 50):\n",
    "    return self.returnFullSearch(size=size)\n",
    "  \n",
    "  def returnFullSearch(self, size = 50):\n",
    "    query = self.searchTerm\n",
    "    searchResults = self.cloudSearch.search(query = query, size=size)['hits']\n",
    "    results = []\n",
    "    items = map(lambda x: x.get('fields'),searchResults.get('hit'))\n",
    "    items =  map(lambda x: dict(zip(x.keys(),map(lambda y: y[0],x.values()))),items)\n",
    "    return list(items)\n",
    "\n",
    "  def sortedSearch(self, size = 1000):\n",
    "    items = self.returnFullSearch(size = size)\n",
    "    print(f'raw search result is {pd.DataFrame(items, columns= self.requiredFields)}')\n",
    "    if not items: return []\n",
    "    df =  self.sortResultsV2(items)\n",
    "    output_dict = list(\n",
    "        df.drop(\n",
    "            ['isNotFresh', 'cat2Count', 'finalCat'], axis = 1\n",
    "            ).T.to_dict().values()\n",
    "        )\n",
    "    return output_dict\n",
    "\n",
    "  def sortResultsV2(self, items):\n",
    "    df = pd.DataFrame(items)\n",
    "    df = self.createCriticalColumns(df)\n",
    "    df['isNotFresh'] = df['villa_category_l1_en'] != 'Fresh'\n",
    "    cat2Count = df.groupby('villa_category_l2_en').count()['pr_code']\n",
    "    df['cat2Count'] = df['villa_category_l2_en'].apply(lambda x: -cat2Count[x])\n",
    "    df['finalCat'] = df['villa_category_l4_en'].fillna(df['villa_category_l3_en'])\n",
    "    return df.sort_values(by=['isNotFresh', 'cat2Count', 'finalCat', 'pr_engname'], ascending= True)"
   ]
  },
  {
   "cell_type": "code",
   "execution_count": 33,
   "metadata": {},
   "outputs": [
    {
     "name": "stdout",
     "output_type": "stream",
     "text": [
      "raw search result is     villa_category_l1_en villa_category_l2_en      villa_category_l3_en  \\\n",
      "0                  Fresh        Fresh Produce  Fruits & Vegetable Local   \n",
      "1                    NaN                  NaN                       NaN   \n",
      "2                  Fresh        Fresh Produce                    Bakery   \n",
      "3                  Fresh        Fresh Produce                    Bakery   \n",
      "4                  Fresh        Fresh Produce                    Bakery   \n",
      "..                   ...                  ...                       ...   \n",
      "450                Fresh        Seafood Fresh                Crustacean   \n",
      "451                Fresh        Seafood Fresh                Crustacean   \n",
      "452                Fresh        Seafood Fresh                Crustacean   \n",
      "453                Fresh               Frozen                   Seafood   \n",
      "454                Fresh        Seafood Fresh             Local Seafood   \n",
      "\n",
      "    villa_category_l4_en  \n",
      "0            Local Fruit  \n",
      "1                    NaN  \n",
      "2          Cake category  \n",
      "3          Cake category  \n",
      "4         Pasty category  \n",
      "..                   ...  \n",
      "450                Local  \n",
      "451                Local  \n",
      "452                Local  \n",
      "453                  NaN  \n",
      "454                  NaN  \n",
      "\n",
      "[455 rows x 4 columns]\n"
     ]
    },
    {
     "data": {
      "text/plain": [
       "455"
      ]
     },
     "execution_count": 33,
     "metadata": {},
     "output_type": "execute_result"
    }
   ],
   "source": [
    "searchEndpoint = 'https://search-villa-cloudsearch-2-4izacsoytzqf6kztcyjhssy2ti.ap-southeast-1.cloudsearch.amazonaws.com'\n",
    "searcher = Search(searchTerm = 'banana', key=USER, pw= PW , endpoint=searchEndpoint)\n",
    "result = searcher.sortedSearch(size=1000)\n",
    "len(list(result))"
   ]
  },
  {
   "cell_type": "code",
   "execution_count": 28,
   "metadata": {},
   "outputs": [
    {
     "data": {
      "text/plain": [
       "726"
      ]
     },
     "execution_count": 28,
     "metadata": {},
     "output_type": "execute_result"
    }
   ],
   "source": [
    "len(searcher.cloudSearch.search(query = 'pork', size = 1000)['hits']['hit'])"
   ]
  },
  {
   "cell_type": "code",
   "execution_count": 35,
   "metadata": {},
   "outputs": [
    {
     "data": {
      "text/plain": [
       "692519"
      ]
     },
     "execution_count": 35,
     "metadata": {},
     "output_type": "execute_result"
    }
   ],
   "source": [
    "import sys, json\n",
    "sys.getsizeof(json.dumps(result))"
   ]
  },
  {
   "cell_type": "code",
   "execution_count": null,
   "metadata": {},
   "outputs": [],
   "source": []
  }
 ],
 "metadata": {
  "kernelspec": {
   "display_name": "Python 3",
   "language": "python",
   "name": "python3"
  },
  "language_info": {
   "codemirror_mode": {
    "name": "ipython",
    "version": 3
   },
   "file_extension": ".py",
   "mimetype": "text/x-python",
   "name": "python",
   "nbconvert_exporter": "python",
   "pygments_lexer": "ipython3",
   "version": "3.8.1"
  }
 },
 "nbformat": 4,
 "nbformat_minor": 4
}
